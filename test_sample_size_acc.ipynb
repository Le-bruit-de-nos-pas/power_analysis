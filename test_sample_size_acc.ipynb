{
 "cells": [
  {
   "cell_type": "markdown",
   "metadata": {},
   "source": [
    "### Sample Size Calculation for Model Accuracy\n",
    "\n",
    "The required sample size to estimate model accuracy within a given margin of error is calculated using:\n",
    "\n",
    "$$\n",
    "n = \\frac{Z^2 \\cdot p \\cdot (1 - p)}{MOE^2}\n",
    "$$\n",
    "\n",
    "where:  \n",
    "- \\( n \\) = required sample size  \n",
    "- \\( Z \\) = Z-score for the desired confidence level (e.g., **1.96** for 95%)  \n",
    "- \\( p \\) = expected model accuracy (e.g., 0.75 for 75%)  \n",
    "- \\( MOE \\) = desired margin of error (e.g., **0.03** for ±3%)  \n",
    "\n",
    "This formula ensures that the estimated accuracy has a reliable confidence interval.\n"
   ]
  },
  {
   "cell_type": "code",
   "execution_count": 7,
   "metadata": {},
   "outputs": [
    {
     "data": {
      "application/vnd.microsoft.datawrangler.viewer.v0+json": {
       "columns": [
        {
         "name": "Expected Accuracy",
         "rawType": "float64",
         "type": "float"
        },
        {
         "name": "MOE ±2%",
         "rawType": "float64",
         "type": "float"
        },
        {
         "name": "MOE ±3%",
         "rawType": "float64",
         "type": "float"
        },
        {
         "name": "MOE ±5%",
         "rawType": "float64",
         "type": "float"
        },
        {
         "name": "MOE ±10%",
         "rawType": "float64",
         "type": "float"
        },
        {
         "name": "MOE ±15%",
         "rawType": "float64",
         "type": "float"
        },
        {
         "name": "MOE ±20%",
         "rawType": "float64",
         "type": "float"
        }
       ],
       "conversionMethod": "pd.DataFrame",
       "ref": "918f261e-c6b2-4258-acd6-d4596c04ce24",
       "rows": [
        [
         "0.5",
         "2401.0",
         "1067.0",
         "384.0",
         "96.0",
         "43.0",
         "24.0"
        ],
        [
         "0.55",
         "2377.0",
         "1056.0",
         "380.0",
         "95.0",
         "42.0",
         "24.0"
        ],
        [
         "0.6",
         "2305.0",
         "1024.0",
         "369.0",
         "92.0",
         "41.0",
         "23.0"
        ],
        [
         "0.7",
         "2017.0",
         "896.0",
         "323.0",
         "81.0",
         "36.0",
         "20.0"
        ],
        [
         "0.75",
         "1801.0",
         "800.0",
         "288.0",
         "72.0",
         "32.0",
         "18.0"
        ],
        [
         "0.8",
         "1537.0",
         "683.0",
         "246.0",
         "61.0",
         "27.0",
         "15.0"
        ],
        [
         "0.85",
         "1224.0",
         "544.0",
         "196.0",
         "49.0",
         "22.0",
         "12.0"
        ],
        [
         "0.9",
         "864.0",
         "384.0",
         "138.0",
         "35.0",
         "15.0",
         "9.0"
        ]
       ],
       "shape": {
        "columns": 6,
        "rows": 8
       }
      },
      "text/html": [
       "<div>\n",
       "<style scoped>\n",
       "    .dataframe tbody tr th:only-of-type {\n",
       "        vertical-align: middle;\n",
       "    }\n",
       "\n",
       "    .dataframe tbody tr th {\n",
       "        vertical-align: top;\n",
       "    }\n",
       "\n",
       "    .dataframe thead th {\n",
       "        text-align: right;\n",
       "    }\n",
       "</style>\n",
       "<table border=\"1\" class=\"dataframe\">\n",
       "  <thead>\n",
       "    <tr style=\"text-align: right;\">\n",
       "      <th></th>\n",
       "      <th>MOE ±2%</th>\n",
       "      <th>MOE ±3%</th>\n",
       "      <th>MOE ±5%</th>\n",
       "      <th>MOE ±10%</th>\n",
       "      <th>MOE ±15%</th>\n",
       "      <th>MOE ±20%</th>\n",
       "    </tr>\n",
       "    <tr>\n",
       "      <th>Expected Accuracy</th>\n",
       "      <th></th>\n",
       "      <th></th>\n",
       "      <th></th>\n",
       "      <th></th>\n",
       "      <th></th>\n",
       "      <th></th>\n",
       "    </tr>\n",
       "  </thead>\n",
       "  <tbody>\n",
       "    <tr>\n",
       "      <th>0.50</th>\n",
       "      <td>2401.0</td>\n",
       "      <td>1067.0</td>\n",
       "      <td>384.0</td>\n",
       "      <td>96.0</td>\n",
       "      <td>43.0</td>\n",
       "      <td>24.0</td>\n",
       "    </tr>\n",
       "    <tr>\n",
       "      <th>0.55</th>\n",
       "      <td>2377.0</td>\n",
       "      <td>1056.0</td>\n",
       "      <td>380.0</td>\n",
       "      <td>95.0</td>\n",
       "      <td>42.0</td>\n",
       "      <td>24.0</td>\n",
       "    </tr>\n",
       "    <tr>\n",
       "      <th>0.60</th>\n",
       "      <td>2305.0</td>\n",
       "      <td>1024.0</td>\n",
       "      <td>369.0</td>\n",
       "      <td>92.0</td>\n",
       "      <td>41.0</td>\n",
       "      <td>23.0</td>\n",
       "    </tr>\n",
       "    <tr>\n",
       "      <th>0.70</th>\n",
       "      <td>2017.0</td>\n",
       "      <td>896.0</td>\n",
       "      <td>323.0</td>\n",
       "      <td>81.0</td>\n",
       "      <td>36.0</td>\n",
       "      <td>20.0</td>\n",
       "    </tr>\n",
       "    <tr>\n",
       "      <th>0.75</th>\n",
       "      <td>1801.0</td>\n",
       "      <td>800.0</td>\n",
       "      <td>288.0</td>\n",
       "      <td>72.0</td>\n",
       "      <td>32.0</td>\n",
       "      <td>18.0</td>\n",
       "    </tr>\n",
       "    <tr>\n",
       "      <th>0.80</th>\n",
       "      <td>1537.0</td>\n",
       "      <td>683.0</td>\n",
       "      <td>246.0</td>\n",
       "      <td>61.0</td>\n",
       "      <td>27.0</td>\n",
       "      <td>15.0</td>\n",
       "    </tr>\n",
       "    <tr>\n",
       "      <th>0.85</th>\n",
       "      <td>1224.0</td>\n",
       "      <td>544.0</td>\n",
       "      <td>196.0</td>\n",
       "      <td>49.0</td>\n",
       "      <td>22.0</td>\n",
       "      <td>12.0</td>\n",
       "    </tr>\n",
       "    <tr>\n",
       "      <th>0.90</th>\n",
       "      <td>864.0</td>\n",
       "      <td>384.0</td>\n",
       "      <td>138.0</td>\n",
       "      <td>35.0</td>\n",
       "      <td>15.0</td>\n",
       "      <td>9.0</td>\n",
       "    </tr>\n",
       "  </tbody>\n",
       "</table>\n",
       "</div>"
      ],
      "text/plain": [
       "                   MOE ±2%  MOE ±3%  MOE ±5%  MOE ±10%  MOE ±15%  MOE ±20%\n",
       "Expected Accuracy                                                         \n",
       "0.50                2401.0   1067.0    384.0      96.0      43.0      24.0\n",
       "0.55                2377.0   1056.0    380.0      95.0      42.0      24.0\n",
       "0.60                2305.0   1024.0    369.0      92.0      41.0      23.0\n",
       "0.70                2017.0    896.0    323.0      81.0      36.0      20.0\n",
       "0.75                1801.0    800.0    288.0      72.0      32.0      18.0\n",
       "0.80                1537.0    683.0    246.0      61.0      27.0      15.0\n",
       "0.85                1224.0    544.0    196.0      49.0      22.0      12.0\n",
       "0.90                 864.0    384.0    138.0      35.0      15.0       9.0"
      ]
     },
     "execution_count": 7,
     "metadata": {},
     "output_type": "execute_result"
    }
   ],
   "source": [
    "import scipy.stats as stats\n",
    "import pandas as pd\n",
    "\n",
    "# Constants\n",
    "z = stats.norm.ppf(0.975)  # Z-score for 95% confidence level (two-tailed, 1.96)\n",
    "\n",
    "# Expected accuracy values to test\n",
    "accuracy_values = [0.50, 0.55, 0.60, 0.60, 0.70, 0.75, 0.80, 0.85, 0.90]  # Example expected model accuracies\n",
    "\n",
    "# Desired margins of error (MOE)\n",
    "moe_values = [0.02, 0.03, 0.05, 0.10, 0.15, 0.20]  # Example MOEs of ±2%, ±3%, ±5%\n",
    "\n",
    "# Compute required sample sizes\n",
    "sample_sizes = {}\n",
    "for p in accuracy_values:\n",
    "    sample_sizes[p] = {moe: (z**2 * p * (1 - p)) / (moe**2) for moe in moe_values}\n",
    "\n",
    "sample_sizes\n",
    "\n",
    "sample_sizes_rounded = {p: {moe: round(size, 0) for moe, size in moes.items()} for p, moes in sample_sizes.items()}\n",
    "\n",
    "# Create a DataFrame for better visualization\n",
    "df = pd.DataFrame(sample_sizes_rounded).T  # Transpose to match expected format\n",
    "df.columns = [f\"MOE ±{int(moe*100)}%\" for moe in moe_values]\n",
    "df.index.name = \"Expected Accuracy\"\n",
    "df"
   ]
  },
  {
   "cell_type": "code",
   "execution_count": null,
   "metadata": {},
   "outputs": [],
   "source": []
  }
 ],
 "metadata": {
  "kernelspec": {
   "display_name": "Python 3",
   "language": "python",
   "name": "python3"
  },
  "language_info": {
   "codemirror_mode": {
    "name": "ipython",
    "version": 3
   },
   "file_extension": ".py",
   "mimetype": "text/x-python",
   "name": "python",
   "nbconvert_exporter": "python",
   "pygments_lexer": "ipython3",
   "version": "3.10.6"
  }
 },
 "nbformat": 4,
 "nbformat_minor": 2
}
